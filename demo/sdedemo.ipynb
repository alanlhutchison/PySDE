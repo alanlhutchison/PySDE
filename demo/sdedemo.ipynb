{
 "metadata": {
  "name": "sdedemo"
 },
 "nbformat": 3,
 "worksheets": [
  {
   "cells": [
    {
     "cell_type": "markdown",
     "source": [
      "#Kolmogorov Forward Equation:",
      "",
      "$$\\frac{\\partial f}{\\partial t} = \\frac{\\partial \\mu(x)f(t,x)}{\\partial x} +\\frac{\\partial^2 (\\sigma^2(x)f(x,t))}{\\partial x^2}$$",
      "",
      "(**Wright's Formula:** Stationary solution)",
      "",
      "$$ f(x)=\\frac{\\phi}{\\sigma^2}\\cdot \\exp\\left({\\int^x\\frac{\\mu(s)}{\\sigma^2(s)}d s}\\right) $$",
      "",
      "where $\\phi$ is chosen so as to make $\\int^{\\infty}_{-\\infty}f(x) d x=1$"
     ]
    },
    {
     "cell_type": "code",
     "collapsed": false,
     "input": [
      "from pysde import sde",
      "from sympy import *",
      "",
      "x,dx=symbols('x dx')",
      "r,G,e,d=symbols('r G epsilon delta')",
      "",
      "print \"The pdf is of X which satisfies dX = r*(G-X) dt + e dW is:\"",
      "pprint (sde.KolmogorovFE_Spdf(r*(G-x),e))",
      "print \"\\nThe pdf is of X which satisfies dX = r*(G-X) dt + e*X dW is:\"",
      "pprint (sde.KolmogorovFE_Spdf(r*(G-x),e*x,0,oo))",
      "l=sde.KolmogorovFE_Spdf(r*(G-x),e*x*(1-x),0,1)",
      "print \"\\nThe pdf is of X which satisfies dX = r*(G-X) dt + e*X*(1-X) dW is:\"",
      "pprint (l.subs({e:r*d}))"
     ],
     "language": "python",
     "outputs": [
      {
       "output_type": "stream",
       "stream": "stdout",
       "text": [
        "The pdf is of X which satisfies dX = r*(G-X) dt + e dW is:",
        "             2                       2  ",
        "            G *r      G*r*x       r*x   ",
        "       - --------- + ------- - ---------",
        "  ___    2*epsilon   epsilon   2*epsilon",
        "\\/ 2 *e                                 ",
        "----------------------------------------",
        "                      _________         ",
        "             ____    / epsilon          ",
        "         2*\\/ pi *  /  -------          ",
        "                  \\/      r             "
       ]
      },
      {
       "output_type": "stream",
       "stream": "stdout",
       "text": [
        "",
        "",
        "The pdf is of X which satisfies dX = r*(G-X) dt + e*X dW is:",
        "                         -r*x ",
        "                  G*r  -------",
        " G*r - 1 /epsilon\\     epsilon",
        "x       *|-------|   *e       ",
        "         \\   r   /            ",
        "------------------------------",
        "          gamma(G*r)          "
       ]
      },
      {
       "output_type": "stream",
       "stream": "stdout",
       "text": [
        "",
        "",
        "The pdf is of X which satisfies dX = r*(G-X) dt + e*X*(1-X) dW is:"
       ]
      },
      {
       "output_type": "stream",
       "stream": "stdout",
       "text": [
        "",
        "   G                   G           1               ",
        " ----- - 1         - ----- - 1 + -----             ",
        " delta               delta       delta      /  1  \\",
        "x         *(-x + 1)                   *gamma|-----|",
        "                                            \\delta/",
        "---------------------------------------------------",
        "                             /  /     1\\\\          ",
        "                             |G*|-1 + -||          ",
        "                /  G  \\      |  \\     G/|          ",
        "           gamma|-----|*gamma|----------|          ",
        "                \\delta/      \\  delta   /          ",
        ""
       ]
      }
     ],
     "prompt_number": 1
    },
    {
     "cell_type": "markdown",
     "source": [
      "##Type: ",
      "",
      "$$d X_t = \\gamma \\left( t, X_t \\right) d t + b \\left( t \\right) X_t d W_t$$",
      "",
      "Define",
      "",
      "$$Y_t \\left( \\omega \\right) = F_t \\left( \\omega \\right) X_t \\left( \\omega \\right)$$",
      "",
      "",
      "where integrating factor",
      "",
      "",
      "$$F_t = \\exp \\left( - \\int^t_0 b \\left( s \\right) d W_t + \\frac{1}{2} \\int^t_0 b^2 \\left( s \\right) d s \\right)$$",
      "",
      "",
      "",
      "Then $Y_t \\left( \\omega \\right)$ satisfies the solution",
      "",
      "",
      "",
      "$$\\begin{aligned} ",
      "\\frac{d Y_t \\left( \\omega \\right)}{d t} &= &F_t \\left( \\omega \\right) \\cdot \\gamma \\left( t, F^{- 1}_t \\left( \\omega \\right) Y_t \\left( \\omega \\right) \\right),  \\cr ",
      "Y_0 &=& x ",
      "\\end{aligned}$$",
      "",
      "",
      "and $X_t = F^{- 1}_t Y_t$."
     ]
    },
    {
     "cell_type": "code",
     "collapsed": false,
     "input": [
      "from pysde import *",
      "from sympy import *",
      "from sympy.abc import t,x,k,N,m,C",
      "",
      "W =Symbol(\"W\")",
      "X = Function(\"X\")(W)",
      "",
      "",
      "a,b=symbols(\"a b\")",
      "A=a*t/X",
      "B=b*X",
      "sol=Reduce2(A,B)",
      "",
      "print \"The solution is of dX = %s dt + %s dW is:\" %(A,B)",
      "pprint(sol)"
     ],
     "language": "python",
     "outputs": [
      {
       "output_type": "stream",
       "stream": "stdout",
       "text": [
        "The solution is of dX = a*t/X(W) dt + b*X(W) dW is:",
        "               __________________________________            ",
        "              /        /                                  2  ",
        "             /        |                                  b *t",
        "            /         |                   2        W*b - ----",
        "   ___     /          |      -2*b*WW(t)  b *t             2  ",
        "-\\/ 2 *   /     C1 +  | a*t*e          *e     dt *e          ",
        "         /            |                                      ",
        "       \\/            /                                       ",
        ""
       ]
      }
     ],
     "prompt_number": 4
    },
    {
     "cell_type": "code",
     "collapsed": true,
     "input": [
      ""
     ],
     "language": "python",
     "outputs": []
    }
   ]
  }
 ]
}
