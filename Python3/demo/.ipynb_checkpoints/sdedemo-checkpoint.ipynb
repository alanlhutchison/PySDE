{
 "cells": [
  {
   "cell_type": "markdown",
   "metadata": {},
   "source": [
    "#Kolmogorov Forward Equation:\n",
    "\n",
    "$$\\frac{\\partial f}{\\partial t} = \\frac{\\partial \\mu(x)f(t,x)}{\\partial x} +\\frac{\\partial^2 (\\sigma^2(x)f(x,t))}{\\partial x^2}$$\n",
    "\n",
    "(**Wright's Formula:** Stationary solution)\n",
    "\n",
    "$$ f(x)=\\frac{\\phi}{\\sigma^2}\\cdot \\exp\\left({\\int^x\\frac{\\mu(s)}{\\sigma^2(s)}d s}\\right) $$\n",
    "\n",
    "where $\\phi$ is chosen so as to make $\\int^{\\infty}_{-\\infty}f(x) d x=1$"
   ]
  },
  {
   "cell_type": "code",
   "execution_count": 2,
   "metadata": {
    "collapsed": false
   },
   "outputs": [
    {
     "name": "stdout",
     "output_type": "stream",
     "text": [
      "The pdf is of X which satisfies dX = r*(G-X) dt + e dW is:\n",
      "         \u239b   2              \u239e\n",
      "       r\u22c5\u239d- G  + x\u22c5(2\u22c5G - x)\u23a0\n",
      "       \u2500\u2500\u2500\u2500\u2500\u2500\u2500\u2500\u2500\u2500\u2500\u2500\u2500\u2500\u2500\u2500\u2500\u2500\u2500\u2500\u2500\u2500\n",
      "  ___           2\u22c5\u03b5          \n",
      "\u2572\u2571 2 \u22c5\u212f                      \n",
      "\u2500\u2500\u2500\u2500\u2500\u2500\u2500\u2500\u2500\u2500\u2500\u2500\u2500\u2500\u2500\u2500\u2500\u2500\u2500\u2500\u2500\u2500\u2500\u2500\u2500\u2500\u2500\u2500\u2500\n",
      "                   ___       \n",
      "           ___    \u2571 \u03b5        \n",
      "       2\u22c5\u2572\u2571 \u03c0 \u22c5  \u2571  \u2500        \n",
      "               \u2572\u2571   r        \n",
      "\n",
      "The pdf is of X which satisfies dX = r*(G-X) dt + e*X dW is:\n",
      "                 -r\u22c5x \n",
      "            G\u22c5r  \u2500\u2500\u2500\u2500\u2500\n",
      " G\u22c5r - 1 \u239b\u03b5\u239e       \u03b5  \n",
      "x       \u22c5\u239c\u2500\u239f   \u22c5\u212f     \n",
      "         \u239dr\u23a0          \n",
      "\u2500\u2500\u2500\u2500\u2500\u2500\u2500\u2500\u2500\u2500\u2500\u2500\u2500\u2500\u2500\u2500\u2500\u2500\u2500\u2500\u2500\u2500\n",
      "        \u0393(G\u22c5r)        \n",
      "\n",
      "The pdf is of X which satisfies dX = r*(G-X) dt + e*X*(1-X) dW is:\n",
      " G               G       1     \n",
      " \u2500 - 1         - \u2500 - 1 + \u2500     \n",
      " \u03b4               \u03b4       \u03b4  \u239b1\u239e\n",
      "x     \u22c5(-x + 1)           \u22c5\u0393\u239c\u2500\u239f\n",
      "                            \u239d\u03b4\u23a0\n",
      "\u2500\u2500\u2500\u2500\u2500\u2500\u2500\u2500\u2500\u2500\u2500\u2500\u2500\u2500\u2500\u2500\u2500\u2500\u2500\u2500\u2500\u2500\u2500\u2500\u2500\u2500\u2500\u2500\u2500\u2500\u2500\n",
      "             \u239b  \u239b     1\u239e\u239e      \n",
      "             \u239cG\u22c5\u239c-1 + \u2500\u239f\u239f      \n",
      "        \u239bG\u239e  \u239c  \u239d     G\u23a0\u239f      \n",
      "       \u0393\u239c\u2500\u239f\u22c5\u0393\u239c\u2500\u2500\u2500\u2500\u2500\u2500\u2500\u2500\u2500\u2500\u239f      \n",
      "        \u239d\u03b4\u23a0  \u239d    \u03b4     \u23a0      \n"
     ]
    }
   ],
   "source": [
    "from pysde import sde\n",
    "from sympy import *\n",
    "\n",
    "x,dx=symbols('x dx')\n",
    "r,G,e,d=symbols('r G epsilon delta')\n",
    "\n",
    "print(\"The pdf is of X which satisfies dX = r*(G-X) dt + e dW is:\")\n",
    "pprint (sde.KolmogorovFE_Spdf(r*(G-x),e))\n",
    "print (\"\\nThe pdf is of X which satisfies dX = r*(G-X) dt + e*X dW is:\")\n",
    "pprint (sde.KolmogorovFE_Spdf(r*(G-x),e*x,0,oo))\n",
    "l=sde.KolmogorovFE_Spdf(r*(G-x),e*x*(1-x),0,1)\n",
    "print (\"\\nThe pdf is of X which satisfies dX = r*(G-X) dt + e*X*(1-X) dW is:\")\n",
    "pprint (l.subs({e:r*d}))"
   ]
  },
  {
   "cell_type": "markdown",
   "metadata": {},
   "source": [
    "##Type: \n",
    "\n",
    "$$d X_t = \\gamma \\left( t, X_t \\right) d t + b \\left( t \\right) X_t d W_t$$\n",
    "\n",
    "Define\n",
    "\n",
    "$$Y_t \\left( \\omega \\right) = F_t \\left( \\omega \\right) X_t \\left( \\omega \\right)$$\n",
    "\n",
    "\n",
    "where integrating factor\n",
    "\n",
    "\n",
    "$$F_t = \\exp \\left( - \\int^t_0 b \\left( s \\right) d W_t + \\frac{1}{2} \\int^t_0 b^2 \\left( s \\right) d s \\right)$$\n",
    "\n",
    "\n",
    "\n",
    "Then $Y_t \\left( \\omega \\right)$ satisfies the solution\n",
    "\n",
    "\n",
    "\n",
    "$$\\begin{aligned} \n",
    "\\frac{d Y_t \\left( \\omega \\right)}{d t} &= &F_t \\left( \\omega \\right) \\cdot \\gamma \\left( t, F^{- 1}_t \\left( \\omega \\right) Y_t \\left( \\omega \\right) \\right),  \\cr \n",
    "Y_0 &=& x \n",
    "\\end{aligned}$$\n",
    "\n",
    "\n",
    "and $X_t = F^{- 1}_t Y_t$."
   ]
  },
  {
   "cell_type": "code",
   "execution_count": 4,
   "metadata": {
    "collapsed": false
   },
   "outputs": [
    {
     "name": "stdout",
     "output_type": "stream",
     "text": [
      "The solution is of dX = a*t/X(W) dt + b*X(W) dW is:\n",
      "                                                    2  \n",
      "            _______________________________        b \u22c5t\n",
      "           \u2571      \u2320                          W\u22c5b - \u2500\u2500\u2500\u2500\n",
      "   ___    \u2571       \u23ae      b\u22c5(-2\u22c5W + b\u22c5t)             2  \n",
      "-\u2572\u2571 2 \u22c5  \u2571   C\u2081 + \u23ae a\u22c5t\u22c5\u212f               dt \u22c5\u212f          \n",
      "       \u2572\u2571         \u2321                                    \n"
     ]
    }
   ],
   "source": [
    "from pysde import *\n",
    "from sympy import *\n",
    "from sympy.abc import t,x,k,N,m,C\n",
    "\n",
    "W =Symbol(\"W\")\n",
    "X = Function(\"X\")(W)\n",
    "\n",
    "\n",
    "a,b=symbols(\"a b\")\n",
    "A=a*t/X\n",
    "B=b*X\n",
    "sol=Reduce2(A,B)\n",
    "\n",
    "print (\"The solution is of dX = %s dt + %s dW is:\" %(A,B))\n",
    "pprint(sol)"
   ]
  },
  {
   "cell_type": "markdown",
   "metadata": {
    "collapsed": true
   },
   "source": [
    "#Kolmogorov Forward Equation:\n",
    "\n",
    "$$\\frac{\\partial f}{\\partial t} = \\frac{\\partial \\mu(x)f(t,x)}{\\partial x} +\\frac{\\partial^2 (\\sigma^2(x)f(x,t))}{\\partial x^2}$$\n",
    "\n",
    "(**Wright's Formula:** Stationary solution)\n",
    "\n",
    "$$ f(x)=\\frac{\\phi}{\\sigma^2}\\cdot \\exp\\left({\\int^x\\frac{\\mu(s)}{\\sigma^2(s)}d s}\\right) $$\n",
    "\n",
    "where $\\phi$ is chosen so as to make $\\int^{\\infty}_{-\\infty}f(x) d x=1$"
   ]
  },
  {
   "cell_type": "code",
   "execution_count": 6,
   "metadata": {
    "collapsed": false
   },
   "outputs": [
    {
     "name": "stdout",
     "output_type": "stream",
     "text": [
      "The pdf is of X which satisfies dX = r*(G-X) dt + e dW is:\n",
      "         \u239b   2              \u239e\n",
      "       r\u22c5\u239d- G  + x\u22c5(2\u22c5G - x)\u23a0\n",
      "       \u2500\u2500\u2500\u2500\u2500\u2500\u2500\u2500\u2500\u2500\u2500\u2500\u2500\u2500\u2500\u2500\u2500\u2500\u2500\u2500\u2500\u2500\n",
      "  ___           2\u22c5\u03b5          \n",
      "\u2572\u2571 2 \u22c5\u212f                      \n",
      "\u2500\u2500\u2500\u2500\u2500\u2500\u2500\u2500\u2500\u2500\u2500\u2500\u2500\u2500\u2500\u2500\u2500\u2500\u2500\u2500\u2500\u2500\u2500\u2500\u2500\u2500\u2500\u2500\u2500\n",
      "                   ___       \n",
      "           ___    \u2571 \u03b5        \n",
      "       2\u22c5\u2572\u2571 \u03c0 \u22c5  \u2571  \u2500        \n",
      "               \u2572\u2571   r        \n",
      "\n",
      "The pdf is of X which satisfies dX = r*(G-X) dt + e*X dW is:\n",
      "                 -r\u22c5x \n",
      "            G\u22c5r  \u2500\u2500\u2500\u2500\u2500\n",
      " G\u22c5r - 1 \u239b\u03b5\u239e       \u03b5  \n",
      "x       \u22c5\u239c\u2500\u239f   \u22c5\u212f     \n",
      "         \u239dr\u23a0          \n",
      "\u2500\u2500\u2500\u2500\u2500\u2500\u2500\u2500\u2500\u2500\u2500\u2500\u2500\u2500\u2500\u2500\u2500\u2500\u2500\u2500\u2500\u2500\n",
      "        \u0393(G\u22c5r)        \n",
      "\n",
      "The pdf is of X which satisfies dX = r*(G-X) dt + e*X*(1-X) dW is:\n",
      " G               G       1     \n",
      " \u2500 - 1         - \u2500 - 1 + \u2500     \n",
      " \u03b4               \u03b4       \u03b4  \u239b1\u239e\n",
      "x     \u22c5(-x + 1)           \u22c5\u0393\u239c\u2500\u239f\n",
      "                            \u239d\u03b4\u23a0\n",
      "\u2500\u2500\u2500\u2500\u2500\u2500\u2500\u2500\u2500\u2500\u2500\u2500\u2500\u2500\u2500\u2500\u2500\u2500\u2500\u2500\u2500\u2500\u2500\u2500\u2500\u2500\u2500\u2500\u2500\u2500\u2500\n",
      "             \u239b  \u239b     1\u239e\u239e      \n",
      "             \u239cG\u22c5\u239c-1 + \u2500\u239f\u239f      \n",
      "        \u239bG\u239e  \u239c  \u239d     G\u23a0\u239f      \n",
      "       \u0393\u239c\u2500\u239f\u22c5\u0393\u239c\u2500\u2500\u2500\u2500\u2500\u2500\u2500\u2500\u2500\u2500\u239f      \n",
      "        \u239d\u03b4\u23a0  \u239d    \u03b4     \u23a0      \n"
     ]
    }
   ],
   "source": [
    "x,dx=symbols('x dx')\n",
    "r,G,e,d=symbols('r G epsilon delta')\n",
    "\n",
    "print (\"The pdf is of X which satisfies dX = r*(G-X) dt + e dW is:\")\n",
    "pprint (sde.KolmogorovFE_Spdf(r*(G-x),e))\n",
    "print (\"\\nThe pdf is of X which satisfies dX = r*(G-X) dt + e*X dW is:\")\n",
    "pprint (sde.KolmogorovFE_Spdf(r*(G-x),e*x,0,oo))\n",
    "l=sde.KolmogorovFE_Spdf(r*(G-x),e*x*(1-x),0,1)\n",
    "print (\"\\nThe pdf is of X which satisfies dX = r*(G-X) dt + e*X*(1-X) dW is:\")\n",
    "pprint (l.subs({e:r*d}))"
   ]
  },
  {
   "cell_type": "markdown",
   "metadata": {},
   "source": [
    "##Type: \n",
    "\n",
    "$$d X_t = \\gamma \\left( t, X_t \\right) d t + b \\left( t \\right) X_t d W_t$$\n",
    "\n",
    "Define\n",
    "\n",
    "$$Y_t \\left( \\omega \\right) = F_t \\left( \\omega \\right) X_t \\left( \\omega \\right)$$\n",
    "\n",
    "\n",
    "where integrating factor\n",
    "\n",
    "\n",
    "$$F_t = \\exp \\left( - \\int^t_0 b \\left( s \\right) d W_t + \\frac{1}{2} \\int^t_0 b^2 \\left( s \\right) d s \\right)$$\n",
    "\n",
    "\n",
    "\n",
    "Then $Y_t \\left( \\omega \\right)$ satisfies the solution\n",
    "\n",
    "\n",
    "\n",
    "$$\\begin{aligned} \n",
    "\\frac{d Y_t \\left( \\omega \\right)}{d t} &= &F_t \\left( \\omega \\right) \\cdot \\gamma \\left( t, F^{- 1}_t \\left( \\omega \\right) Y_t \\left( \\omega \\right) \\right),  \\cr \n",
    "Y_0 &=& x \n",
    "\\end{aligned}$$\n",
    "\n",
    "\n",
    "and $X_t = F^{- 1}_t Y_t$."
   ]
  },
  {
   "cell_type": "code",
   "execution_count": 7,
   "metadata": {
    "collapsed": false
   },
   "outputs": [
    {
     "name": "stdout",
     "output_type": "stream",
     "text": [
      "The solution is of dX = a*t/X(W) dt + b*X(W) dW is:\n",
      "                                                    2  \n",
      "            _______________________________        b \u22c5t\n",
      "           \u2571      \u2320                          W\u22c5b - \u2500\u2500\u2500\u2500\n",
      "   ___    \u2571       \u23ae      b\u22c5(-2\u22c5W + b\u22c5t)             2  \n",
      "-\u2572\u2571 2 \u22c5  \u2571   C\u2081 + \u23ae a\u22c5t\u22c5\u212f               dt \u22c5\u212f          \n",
      "       \u2572\u2571         \u2321                                    \n"
     ]
    }
   ],
   "source": [
    "W =Symbol(\"W\")\n",
    "X = Function(\"X\")(W)\n",
    "\n",
    "\n",
    "a,b=symbols(\"a b\")\n",
    "A=a*t/X\n",
    "B=b*X\n",
    "sol=Reduce2(A,B)\n",
    "\n",
    "print (\"The solution is of dX = %s dt + %s dW is:\" %(A,B))\n",
    "pprint(sol)"
   ]
  },
  {
   "cell_type": "code",
   "execution_count": null,
   "metadata": {
    "collapsed": true
   },
   "outputs": [],
   "source": []
  }
 ],
 "metadata": {
  "kernelspec": {
   "display_name": "IPython (Python 3)",
   "name": "python3"
  },
  "language_info": {
   "codemirror_mode": {
    "name": "ipython",
    "version": 3
   },
   "file_extension": ".py",
   "mimetype": "text/x-python",
   "name": "python",
   "nbconvert_exporter": "python",
   "pygments_lexer": "ipython3"
  },
  "signature": "sha256:30de5d2ed089995900b1b0c56e34d4fb4c4ce00a36505ab52f2cb05938682726"
 },
 "nbformat": 4,
 "nbformat_minor": 0
}